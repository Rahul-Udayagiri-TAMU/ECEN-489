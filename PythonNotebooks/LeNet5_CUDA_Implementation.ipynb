{
  "nbformat": 4,
  "nbformat_minor": 0,
  "metadata": {
    "colab": {
      "provenance": [],
      "gpuType": "T4"
    },
    "kernelspec": {
      "name": "python3",
      "display_name": "Python 3"
    },
    "language_info": {
      "name": "python"
    },
    "accelerator": "GPU"
  },
  "cells": [
    {
      "cell_type": "code",
      "source": [
        "#Train and save the model"
      ],
      "metadata": {
        "id": "MB7RNOwWep1v"
      },
      "execution_count": null,
      "outputs": []
    },
    {
      "cell_type": "code",
      "execution_count": null,
      "metadata": {
        "colab": {
          "base_uri": "https://localhost:8080/"
        },
        "id": "O3SBz1n8lOkK",
        "outputId": "2e174180-eabb-475f-bdd0-89b84e1487bb"
      },
      "outputs": [
        {
          "output_type": "stream",
          "name": "stderr",
          "text": [
            "100%|██████████| 9.91M/9.91M [00:00<00:00, 17.9MB/s]\n",
            "100%|██████████| 28.9k/28.9k [00:00<00:00, 483kB/s]\n",
            "100%|██████████| 1.65M/1.65M [00:00<00:00, 4.42MB/s]\n",
            "100%|██████████| 4.54k/4.54k [00:00<00:00, 8.25MB/s]\n"
          ]
        },
        {
          "output_type": "stream",
          "name": "stdout",
          "text": [
            "Epoch [1/5], Loss: 0.0606\n",
            "Epoch [2/5], Loss: 0.0308\n",
            "Epoch [3/5], Loss: 0.1241\n",
            "Epoch [4/5], Loss: 0.0117\n",
            "Epoch [5/5], Loss: 0.0023\n",
            "Model trained and saved as lenet5_mnist.pth\n"
          ]
        }
      ],
      "source": [
        "import torch\n",
        "import torch.nn as nn\n",
        "import torch.optim as optim\n",
        "import torchvision\n",
        "import torchvision.transforms as transforms\n",
        "\n",
        "class LeNet5(nn.Module):\n",
        "    def __init__(self):\n",
        "        super(LeNet5, self).__init__()\n",
        "        self.conv1 = nn.Conv2d(1, 6, kernel_size=5)\n",
        "        self.conv2 = nn.Conv2d(6, 16, kernel_size=5)\n",
        "        self.fc1 = nn.Linear(16 * 4 * 4, 120)\n",
        "        self.fc2 = nn.Linear(120, 84)\n",
        "        self.fc3 = nn.Linear(84, 10)\n",
        "\n",
        "    def forward(self, x):\n",
        "        x = torch.relu(self.conv1(x))\n",
        "        x = torch.max_pool2d(x, 2)\n",
        "        x = torch.relu(self.conv2(x))\n",
        "        x = torch.max_pool2d(x, 2)\n",
        "        x = x.view(-1, 16 * 4 * 4)\n",
        "        x = torch.relu(self.fc1(x))\n",
        "        x = torch.relu(self.fc2(x))\n",
        "        x = self.fc3(x)\n",
        "        return x\n",
        "\n",
        "# Load MNIST dataset\n",
        "transform = transforms.Compose([transforms.ToTensor()])\n",
        "trainset = torchvision.datasets.MNIST(root='./data', train=True, download=True, transform=transform)\n",
        "trainloader = torch.utils.data.DataLoader(trainset, batch_size=64, shuffle=True)\n",
        "\n",
        "# Initialize model, loss, and optimizer\n",
        "model = LeNet5()\n",
        "criterion = nn.CrossEntropyLoss()\n",
        "optimizer = optim.Adam(model.parameters(), lr=0.001)\n",
        "\n",
        "# Train model\n",
        "num_epochs = 5\n",
        "for epoch in range(num_epochs):\n",
        "    for images, labels in trainloader:\n",
        "        optimizer.zero_grad()\n",
        "        outputs = model(images)\n",
        "        loss = criterion(outputs, labels)\n",
        "        loss.backward()\n",
        "        optimizer.step()\n",
        "    print(f\"Epoch [{epoch+1}/{num_epochs}], Loss: {loss.item():.4f}\")\n",
        "\n",
        "#Save the trained model to extract weights later\n",
        "torch.save(model.state_dict(), \"lenet5_mnist.pth\")\n",
        "print(\"Model trained and saved as lenet5_mnist.pth\")"
      ]
    },
    {
      "cell_type": "code",
      "source": [
        "#Test the Model's performance against the Test Dataset\n",
        "\n",
        "import torch\n",
        "import torchvision\n",
        "import torchvision.transforms as transforms\n",
        "\n",
        "model = LeNet5()\n",
        "model.load_state_dict(torch.load(\"lenet5_mnist.pth\", map_location=torch.device('cpu')))\n",
        "model.eval()\n",
        "\n",
        "transform = transforms.Compose([transforms.ToTensor()])\n",
        "testset = torchvision.datasets.MNIST(root='./data', train=False, download=True, transform=transform)\n",
        "testloader = torch.utils.data.DataLoader(testset, batch_size=100, shuffle=False)\n",
        "\n",
        "def test_accuracy(model, testloader):\n",
        "    correct = 0\n",
        "    total = 0\n",
        "    with torch.no_grad():\n",
        "        for images, labels in testloader:\n",
        "            outputs = model(images)\n",
        "            _, predicted = torch.max(outputs, 1)  # Consider the class with highest probability\n",
        "            total += labels.size(0)\n",
        "            correct += (predicted == labels).sum().item()\n",
        "\n",
        "    accuracy = 100 * correct / total\n",
        "    print(f\"Test Accuracy: {accuracy:.2f}%\")\n",
        "\n",
        "test_accuracy(model, testloader)"
      ],
      "metadata": {
        "colab": {
          "base_uri": "https://localhost:8080/"
        },
        "id": "SWwjp5dnnW69",
        "outputId": "f2bfea9b-963c-4f93-aabd-fdfa50d22f33"
      },
      "execution_count": null,
      "outputs": [
        {
          "output_type": "stream",
          "name": "stdout",
          "text": [
            "Test Accuracy: 98.31%\n"
          ]
        }
      ]
    },
    {
      "cell_type": "code",
      "source": [
        "# Store the Model's weights from each layer in Binary/Text format\n",
        "# These files will be used in our C program later when we are implementing the model using C and CUDA\n",
        "\n",
        "import torch\n",
        "import torch.nn as nn\n",
        "import numpy as np\n",
        "\n",
        "class LeNet5(nn.Module):\n",
        "    def __init__(self):\n",
        "        super(LeNet5, self).__init__()\n",
        "        self.conv1 = nn.Conv2d(1, 6, kernel_size=5)  # (6, 1, 5, 5)\n",
        "        self.conv2 = nn.Conv2d(6, 16, kernel_size=5)  # (16, 6, 5, 5)\n",
        "        self.fc1 = nn.Linear(16 * 4 * 4, 120)  # (120, 256)\n",
        "        self.fc2 = nn.Linear(120, 84)  # (84, 120)\n",
        "        self.fc3 = nn.Linear(84, 10)  # (10, 84)\n",
        "\n",
        "    def forward(self, x):\n",
        "        x = torch.relu(self.conv1(x))\n",
        "        x = torch.max_pool2d(x, 2)\n",
        "        x = torch.relu(self.conv2(x))\n",
        "        x = torch.max_pool2d(x, 2)\n",
        "        x = x.view(-1, 16 * 4 * 4)\n",
        "        x = torch.relu(self.fc1(x))\n",
        "        x = torch.relu(self.fc2(x))\n",
        "        x = self.fc3(x)\n",
        "        return x\n",
        "\n",
        "model = LeNet5()\n",
        "model.load_state_dict(torch.load(\"lenet5_mnist.pth\", map_location=torch.device('cpu')))\n",
        "model.eval()\n",
        "\n",
        "# Function to save weights to a text file\n",
        "def save_weights_txt(model, filename=\"weights.txt\"):\n",
        "    with open(filename, \"w\") as f:\n",
        "        for name, param in model.named_parameters():\n",
        "            f.write(f\"{name} {param.numel()} \")  # Store layer name and size\n",
        "            np.savetxt(f, param.detach().numpy().flatten(), fmt=\"%.6f\")  # Save weights\n",
        "\n",
        "# Function to save weights in a binary file\n",
        "def save_weights_bin(model, filename=\"weights.bin\"):\n",
        "    with open(filename, \"wb\") as f:\n",
        "        for name, param in model.named_parameters():\n",
        "            np.array([param.numel()], dtype=np.int32).tofile(f)  # Store size\n",
        "            param.detach().numpy().flatten().astype(np.float32).tofile(f)  # Store weights\n",
        "\n",
        "save_weights_txt(model, \"weights.txt\")\n",
        "save_weights_bin(model, \"weights.bin\")"
      ],
      "metadata": {
        "id": "PYOJWWiim1bu"
      },
      "execution_count": null,
      "outputs": []
    },
    {
      "cell_type": "markdown",
      "source": [
        "The below code is to compare the conv1 outputs from C implementation and CUDA implementation"
      ],
      "metadata": {
        "id": "_YjA8sX_wQbS"
      }
    },
    {
      "cell_type": "code",
      "source": [
        "import numpy as np\n",
        "\n",
        "def load_output(filename, num_filters=6, height=24, width=24):\n",
        "    outputs = []\n",
        "    with open(filename, 'r') as f:\n",
        "        current_filter = []\n",
        "        for line in f:\n",
        "            if line.strip() == \"\":\n",
        "                if current_filter:\n",
        "                    outputs.append(np.array(current_filter))\n",
        "                    current_filter = []\n",
        "            else:\n",
        "                current_filter.append([float(val) for val in line.strip().split()])\n",
        "        if current_filter:\n",
        "            outputs.append(np.array(current_filter))  # handle last filter\n",
        "    return np.array(outputs).reshape((num_filters, height, width))\n",
        "\n",
        "def compare_outputs(cpu_file, cuda_file, tolerance=1e-5):\n",
        "    cpu_output = load_output(cpu_file)\n",
        "    cuda_output = load_output(cuda_file)\n",
        "\n",
        "    if cpu_output.shape != cuda_output.shape:\n",
        "        print(f\"Shape mismatch: CPU {cpu_output.shape} vs CUDA {cuda_output.shape}\")\n",
        "        return\n",
        "\n",
        "    diff = np.abs(cpu_output - cuda_output)\n",
        "    max_diff = np.max(diff)\n",
        "    mean_diff = np.mean(diff)\n",
        "\n",
        "    print(f\"Max difference: {max_diff:.6e}\")\n",
        "    print(f\"Mean difference: {mean_diff:.6e}\")\n",
        "\n",
        "    if np.all(diff < tolerance):\n",
        "        print(\"✅ Outputs match within tolerance.\")\n",
        "    else:\n",
        "        print(\"❌ Outputs differ beyond tolerance.\")\n",
        "        mismatches = np.argwhere(diff >= tolerance)\n",
        "        print(f\"{len(mismatches)} values exceed tolerance of {tolerance}. Example mismatch:\")\n",
        "        for idx in mismatches[:5]:\n",
        "            f, i, j = idx\n",
        "            print(f\"Filter {f}, Row {i}, Col {j}: CPU={cpu_output[f][i][j]:.6f}, CUDA={cuda_output[f][i][j]:.6f}, Δ={diff[f][i][j]:.6e}\")\n",
        "\n",
        "# Run the comparison\n",
        "compare_outputs(\"conv1_output.txt\", \"conv1_cuda_output.txt\")"
      ],
      "metadata": {
        "colab": {
          "base_uri": "https://localhost:8080/"
        },
        "id": "HGO6-sg-9Cak",
        "outputId": "9a834ea7-4e59-4952-9b3e-6f80a8ade2ea"
      },
      "execution_count": 8,
      "outputs": [
        {
          "output_type": "stream",
          "name": "stdout",
          "text": [
            "Max difference: 2.000000e-06\n",
            "Mean difference: 1.073495e-07\n",
            "✅ Outputs match within tolerance.\n"
          ]
        }
      ]
    },
    {
      "cell_type": "markdown",
      "source": [
        "Code to compare the Pool1 layer outputs"
      ],
      "metadata": {
        "id": "eogZnrof4Osw"
      }
    },
    {
      "cell_type": "code",
      "source": [
        "import numpy as np\n",
        "\n",
        "def load_output(filename, num_filters=6, height=12, width=12):\n",
        "    outputs = []\n",
        "    with open(filename, 'r') as f:\n",
        "        current_filter = []\n",
        "        for line in f:\n",
        "            if line.strip() == \"\":\n",
        "                if current_filter:\n",
        "                    outputs.append(np.array(current_filter))\n",
        "                    current_filter = []\n",
        "            else:\n",
        "                current_filter.append([float(val) for val in line.strip().split()])\n",
        "        if current_filter:\n",
        "            outputs.append(np.array(current_filter))  # catch last filter\n",
        "    return np.array(outputs).reshape((num_filters, height, width))\n",
        "\n",
        "def compare_outputs(cpu_file, cuda_file, tolerance=1e-5):\n",
        "    cpu_output = load_output(cpu_file)\n",
        "    cuda_output = load_output(cuda_file)\n",
        "\n",
        "    if cpu_output.shape != cuda_output.shape:\n",
        "        print(f\"Shape mismatch: CPU {cpu_output.shape} vs CUDA {cuda_output.shape}\")\n",
        "        return\n",
        "\n",
        "    diff = np.abs(cpu_output - cuda_output)\n",
        "    max_diff = np.max(diff)\n",
        "    mean_diff = np.mean(diff)\n",
        "\n",
        "    print(f\"Max difference: {max_diff:.6e}\")\n",
        "    print(f\"Mean difference: {mean_diff:.6e}\")\n",
        "\n",
        "    if np.all(diff < tolerance):\n",
        "        print(\"✅ Pool1 outputs match within tolerance.\")\n",
        "    else:\n",
        "        print(\"❌ Pool1 outputs differ beyond tolerance.\")\n",
        "        mismatches = np.argwhere(diff >= tolerance)\n",
        "        print(f\"{len(mismatches)} mismatches found (tolerance {tolerance}).\")\n",
        "        for idx in mismatches[:5]:\n",
        "            f, i, j = idx\n",
        "            print(f\"Filter {f}, Row {i}, Col {j}: CPU={cpu_output[f][i][j]:.6f}, CUDA={cuda_output[f][i][j]:.6f}, Δ={diff[f][i][j]:.6e}\")\n",
        "\n",
        "# Run the comparison\n",
        "compare_outputs(\"pool1_output.txt\", \"pool1_cuda_output.txt\")"
      ],
      "metadata": {
        "colab": {
          "base_uri": "https://localhost:8080/"
        },
        "id": "7kQU43lfwaxd",
        "outputId": "ae0ae27d-4334-40ed-c709-377fce378a5b"
      },
      "execution_count": 2,
      "outputs": [
        {
          "output_type": "stream",
          "name": "stdout",
          "text": [
            "Max difference: 1.000000e-06\n",
            "Mean difference: 1.400463e-07\n",
            "✅ Pool1 outputs match within tolerance.\n"
          ]
        }
      ]
    },
    {
      "cell_type": "markdown",
      "source": [
        "Code to compare the Conv2 layer outputs"
      ],
      "metadata": {
        "id": "xhXsP9bC4UMo"
      }
    },
    {
      "cell_type": "code",
      "source": [
        "import numpy as np\n",
        "\n",
        "def load_output(filename, num_filters=16, height=8, width=8):\n",
        "    outputs = []\n",
        "    with open(filename, 'r') as f:\n",
        "        current_filter = []\n",
        "        for line in f:\n",
        "            if line.strip() == \"\":\n",
        "                if current_filter:\n",
        "                    outputs.append(np.array(current_filter))\n",
        "                    current_filter = []\n",
        "            else:\n",
        "                current_filter.append([float(val) for val in line.strip().split()])\n",
        "        if current_filter:\n",
        "            outputs.append(np.array(current_filter))  # handle last block\n",
        "    return np.array(outputs).reshape((num_filters, height, width))\n",
        "\n",
        "def compare_outputs(cpu_file, cuda_file, tolerance=1e-5):\n",
        "    cpu_output = load_output(cpu_file)\n",
        "    cuda_output = load_output(cuda_file)\n",
        "\n",
        "    if cpu_output.shape != cuda_output.shape:\n",
        "        print(f\"Shape mismatch: CPU {cpu_output.shape} vs CUDA {cuda_output.shape}\")\n",
        "        return\n",
        "\n",
        "    diff = np.abs(cpu_output - cuda_output)\n",
        "    max_diff = np.max(diff)\n",
        "    mean_diff = np.mean(diff)\n",
        "\n",
        "    print(f\"Max difference: {max_diff:.6e}\")\n",
        "    print(f\"Mean difference: {mean_diff:.6e}\")\n",
        "\n",
        "    if np.all(diff < tolerance):\n",
        "        print(\"✅ Conv2 outputs match within tolerance.\")\n",
        "    else:\n",
        "        print(\"❌ Conv2 outputs differ beyond tolerance.\")\n",
        "        mismatches = np.argwhere(diff >= tolerance)\n",
        "        print(f\"{len(mismatches)} mismatches (tolerance {tolerance}). Showing first few:\")\n",
        "        for idx in mismatches[:5]:\n",
        "            f, i, j = idx\n",
        "            print(f\"Filter {f}, Row {i}, Col {j}: CPU={cpu_output[f][i][j]:.6f}, CUDA={cuda_output[f][i][j]:.6f}, Δ={diff[f][i][j]:.6e}\")\n",
        "\n",
        "# Run it\n",
        "compare_outputs(\"conv2_output.txt\", \"conv2_cuda_output.txt\")"
      ],
      "metadata": {
        "colab": {
          "base_uri": "https://localhost:8080/"
        },
        "id": "IFyaL2Be4T4-",
        "outputId": "b91abbfc-b9cb-4a3b-9d58-1fec59e0f890"
      },
      "execution_count": 3,
      "outputs": [
        {
          "output_type": "stream",
          "name": "stdout",
          "text": [
            "Max difference: 3.000000e-06\n",
            "Mean difference: 1.806641e-07\n",
            "✅ Conv2 outputs match within tolerance.\n"
          ]
        }
      ]
    },
    {
      "cell_type": "markdown",
      "source": [
        "Code to compare the Pool2 layer outputs"
      ],
      "metadata": {
        "id": "7-RbevEn80MV"
      }
    },
    {
      "cell_type": "code",
      "source": [
        "import numpy as np\n",
        "\n",
        "def load_output(filename, num_filters=16, height=4, width=4):\n",
        "    outputs = []\n",
        "    with open(filename, 'r') as f:\n",
        "        current_filter = []\n",
        "        for line in f:\n",
        "            if line.strip() == \"\":\n",
        "                if current_filter:\n",
        "                    outputs.append(np.array(current_filter))\n",
        "                    current_filter = []\n",
        "            else:\n",
        "                current_filter.append([float(val) for val in line.strip().split()])\n",
        "        if current_filter:\n",
        "            outputs.append(np.array(current_filter))\n",
        "    return np.array(outputs).reshape((num_filters, height, width))\n",
        "\n",
        "def compare_outputs(cpu_file, cuda_file, tolerance=1e-5):\n",
        "    cpu_output = load_output(cpu_file)\n",
        "    cuda_output = load_output(cuda_file)\n",
        "\n",
        "    if cpu_output.shape != cuda_output.shape:\n",
        "        print(f\"Shape mismatch: CPU {cpu_output.shape} vs CUDA {cuda_output.shape}\")\n",
        "        return\n",
        "\n",
        "    diff = np.abs(cpu_output - cuda_output)\n",
        "    max_diff = np.max(diff)\n",
        "    mean_diff = np.mean(diff)\n",
        "\n",
        "    print(f\"Max difference: {max_diff:.6e}\")\n",
        "    print(f\"Mean difference: {mean_diff:.6e}\")\n",
        "\n",
        "    if np.all(diff < tolerance):\n",
        "        print(\"✅ Pool2 outputs match within tolerance.\")\n",
        "    else:\n",
        "        print(\"❌ Pool2 outputs differ beyond tolerance.\")\n",
        "        mismatches = np.argwhere(diff >= tolerance)\n",
        "        print(f\"{len(mismatches)} mismatches found (tolerance {tolerance}). Showing up to 5:\")\n",
        "        for idx in mismatches[:5]:\n",
        "            f, i, j = idx\n",
        "            print(f\"Filter {f}, Row {i}, Col {j}: CPU={cpu_output[f][i][j]:.6f}, CUDA={cuda_output[f][i][j]:.6f}, Δ={diff[f][i][j]:.6e}\")\n",
        "\n",
        "# Run the comparison\n",
        "compare_outputs(\"pool2_output.txt\", \"pool2_cuda_output.txt\")"
      ],
      "metadata": {
        "colab": {
          "base_uri": "https://localhost:8080/"
        },
        "id": "71M13Bbl85MN",
        "outputId": "907335ae-c5e9-4cf4-db60-66f8213d48dc"
      },
      "execution_count": 4,
      "outputs": [
        {
          "output_type": "stream",
          "name": "stdout",
          "text": [
            "Max difference: 3.000000e-06\n",
            "Mean difference: 3.203125e-07\n",
            "✅ Pool2 outputs match within tolerance.\n"
          ]
        }
      ]
    },
    {
      "cell_type": "markdown",
      "source": [
        "Code to compare the FC1 layer outputs"
      ],
      "metadata": {
        "id": "QcylFYV1Naho"
      }
    },
    {
      "cell_type": "code",
      "source": [
        "import numpy as np\n",
        "\n",
        "def compare_fc1_outputs(cuda_file, c_file, tolerance=1e-5):\n",
        "    cuda_output = np.loadtxt(cuda_file)\n",
        "    c_output = np.loadtxt(c_file)\n",
        "\n",
        "    if cuda_output.shape != c_output.shape:\n",
        "        print(\"❌ Shape mismatch:\")\n",
        "        print(f\"  CUDA: {cuda_output.shape}, C: {c_output.shape}\")\n",
        "        return\n",
        "\n",
        "    diff = np.abs(cuda_output - c_output)\n",
        "    max_diff = np.max(diff)\n",
        "    mean_diff = np.mean(diff)\n",
        "\n",
        "    print(f\"✅ Shape matched: {cuda_output.shape}\")\n",
        "    print(f\"🔍 Max difference: {max_diff:.6e}\")\n",
        "    print(f\"📉 Mean difference: {mean_diff:.6e}\")\n",
        "\n",
        "    if np.all(diff < tolerance):\n",
        "        print(\"✅ FC1 outputs match within the tolerance.\")\n",
        "    else:\n",
        "        print(\"⚠️ FC1 outputs differ at some positions.\")\n",
        "        # Show a few mismatches\n",
        "        mismatches = np.where(diff >= tolerance)[0]\n",
        "        for idx in mismatches[:5]:  # Show up to 5 mismatches\n",
        "            print(f\"  Index {idx}: CUDA={cuda_output[idx]:.6f}, C={c_output[idx]:.6f}, Δ={diff[idx]:.6e}\")\n",
        "\n",
        "# Run the comparison\n",
        "compare_fc1_outputs(\"fc1_cuda_output.txt\", \"fc1_output.txt\")"
      ],
      "metadata": {
        "colab": {
          "base_uri": "https://localhost:8080/"
        },
        "id": "x1kV5WkkNWnT",
        "outputId": "614ed83b-29f6-4ff2-83b2-15476a690b3a"
      },
      "execution_count": 1,
      "outputs": [
        {
          "output_type": "stream",
          "name": "stdout",
          "text": [
            "✅ Shape matched: (120,)\n",
            "🔍 Max difference: 2.000000e-06\n",
            "📉 Mean difference: 2.666667e-07\n",
            "✅ FC1 outputs match within the tolerance.\n"
          ]
        }
      ]
    },
    {
      "cell_type": "markdown",
      "source": [
        "Code to compare FC2 outputs"
      ],
      "metadata": {
        "id": "WLrneRYiTJ9H"
      }
    },
    {
      "cell_type": "code",
      "source": [
        "import numpy as np\n",
        "\n",
        "def compare_fc2_outputs(cuda_file, c_file, tolerance=1e-5):\n",
        "    # Load outputs as 1-D arrays\n",
        "    cuda_output = np.loadtxt(cuda_file)\n",
        "    c_output = np.loadtxt(c_file)\n",
        "\n",
        "    # Check if shapes match\n",
        "    if cuda_output.shape != c_output.shape:\n",
        "        print(\"Shape mismatch:\")\n",
        "        print(f\"  CUDA output shape: {cuda_output.shape}\")\n",
        "        print(f\"  C output shape: {c_output.shape}\")\n",
        "        return\n",
        "\n",
        "    # Calculate difference\n",
        "    diff = np.abs(cuda_output - c_output)\n",
        "    max_diff = np.max(diff)\n",
        "    mean_diff = np.mean(diff)\n",
        "\n",
        "    print(f\"Max difference: {max_diff:.6e}\")\n",
        "    print(f\"Mean difference: {mean_diff:.6e}\")\n",
        "\n",
        "    if np.all(diff < tolerance):\n",
        "        print(\"✅ FC2 outputs match within the tolerance.\")\n",
        "    else:\n",
        "        print(\"❌ FC2 outputs differ beyond the tolerance.\")\n",
        "        indices = np.where(diff >= tolerance)[0]\n",
        "        print(f\"Mismatch found at {len(indices)} indices (showing up to 5):\")\n",
        "        for idx in indices[:5]:\n",
        "            print(f\"  Index {idx}: CUDA = {cuda_output[idx]:.6f}, C = {c_output[idx]:.6f}, Diff = {diff[idx]:.6e}\")\n",
        "\n",
        "# Run the comparison\n",
        "compare_fc2_outputs(\"fc2_cuda_output.txt\", \"fc2_output.txt\")"
      ],
      "metadata": {
        "colab": {
          "base_uri": "https://localhost:8080/"
        },
        "id": "a1s_4s5-TMsJ",
        "outputId": "e0902c67-4ed3-4ca5-bc76-e88faa011a1a"
      },
      "execution_count": 2,
      "outputs": [
        {
          "output_type": "stream",
          "name": "stdout",
          "text": [
            "Max difference: 3.000000e-06\n",
            "Mean difference: 3.095238e-07\n",
            "✅ FC2 outputs match within the tolerance.\n"
          ]
        }
      ]
    },
    {
      "cell_type": "markdown",
      "source": [
        "Code to compare FC3 outputs"
      ],
      "metadata": {
        "id": "i7s8H4J6XsYH"
      }
    },
    {
      "cell_type": "code",
      "source": [
        "import numpy as np\n",
        "\n",
        "def compare_fc3_outputs(cuda_file, c_file, tolerance=1e-5):\n",
        "    # Load outputs as 1-D arrays\n",
        "    cuda_output = np.loadtxt(cuda_file)\n",
        "    c_output = np.loadtxt(c_file)\n",
        "\n",
        "    # Check if shapes match\n",
        "    if cuda_output.shape != c_output.shape:\n",
        "        print(\"Shape mismatch:\")\n",
        "        print(f\"  CUDA output shape: {cuda_output.shape}\")\n",
        "        print(f\"  C output shape: {c_output.shape}\")\n",
        "        return\n",
        "\n",
        "    # Calculate difference\n",
        "    diff = np.abs(cuda_output - c_output)\n",
        "    max_diff = np.max(diff)\n",
        "    mean_diff = np.mean(diff)\n",
        "\n",
        "    print(f\"Max difference: {max_diff:.6e}\")\n",
        "    print(f\"Mean difference: {mean_diff:.6e}\")\n",
        "\n",
        "    if np.all(diff < tolerance):\n",
        "        print(\"✅ FC2 outputs match within the tolerance.\")\n",
        "    else:\n",
        "        print(\"❌ FC2 outputs differ beyond the tolerance.\")\n",
        "        indices = np.where(diff >= tolerance)[0]\n",
        "        print(f\"Mismatch found at {len(indices)} indices (showing up to 5):\")\n",
        "        for idx in indices[:5]:\n",
        "            print(f\"  Index {idx}: CUDA = {cuda_output[idx]:.6f}, C = {c_output[idx]:.6f}, Diff = {diff[idx]:.6e}\")\n",
        "\n",
        "# Run the comparison\n",
        "compare_fc3_outputs(\"fc3_cuda_output.txt\", \"fc3_output.txt\")"
      ],
      "metadata": {
        "colab": {
          "base_uri": "https://localhost:8080/"
        },
        "id": "OHS5QzpyXpOq",
        "outputId": "87b5013b-7f23-49f5-fd29-58293e91a243"
      },
      "execution_count": 3,
      "outputs": [
        {
          "output_type": "stream",
          "name": "stdout",
          "text": [
            "Max difference: 3.000000e-06\n",
            "Mean difference: 1.000000e-06\n",
            "✅ FC2 outputs match within the tolerance.\n"
          ]
        }
      ]
    }
  ]
}